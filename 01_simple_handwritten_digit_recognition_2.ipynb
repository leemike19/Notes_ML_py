{
 "cells": [
  {
   "cell_type": "markdown",
   "metadata": {
    "slideshow": {
     "slide_type": "-"
    }
   },
   "source": [
    "# 分类：简单的数字识别（二）\n",
    "### Classification: Simple Handwritten Digit Recognition Ⅱ"
   ]
  },
  {
   "cell_type": "markdown",
   "metadata": {},
   "source": [
    "上一篇讲到简单的二分类器及其性能评价，本篇就来探讨下多类别的分类问题。"
   ]
  },
  {
   "cell_type": "markdown",
   "metadata": {
    "slideshow": {
     "slide_type": "-"
    }
   },
   "source": [
    "## 1 加载数据\n",
    "Load the Data：using sklearn's handwritten digit datasets"
   ]
  },
  {
   "cell_type": "code",
   "execution_count": 1,
   "metadata": {},
   "outputs": [],
   "source": [
    "from sklearn import datasets\n",
    "digits=datasets.load_digits()"
   ]
  },
  {
   "cell_type": "markdown",
   "metadata": {},
   "source": [
    "## 2 查看数据\n",
    "Take a Quick Look at the Data"
   ]
  },
  {
   "cell_type": "code",
   "execution_count": 2,
   "metadata": {
    "scrolled": true
   },
   "outputs": [
    {
     "name": "stdout",
     "output_type": "stream",
     "text": [
      "(1797, 64)\n"
     ]
    }
   ],
   "source": [
    "X=digits.data\n",
    "y=digits.target\n",
    "print(X.shape)"
   ]
  },
  {
   "cell_type": "code",
   "execution_count": 3,
   "metadata": {},
   "outputs": [],
   "source": [
    "%matplotlib inline\n",
    "import matplotlib as mpl\n",
    "import matplotlib.pyplot as plt"
   ]
  },
  {
   "cell_type": "markdown",
   "metadata": {},
   "source": [
    "## 3 准备训练集和测试集\n",
    "Prepare the Training Set and the Test Set"
   ]
  },
  {
   "cell_type": "code",
   "execution_count": 4,
   "metadata": {},
   "outputs": [],
   "source": [
    "test_ratio=0.2\n",
    "test_size=int(len(X)*test_ratio)"
   ]
  },
  {
   "cell_type": "code",
   "execution_count": 5,
   "metadata": {},
   "outputs": [],
   "source": [
    "X_test,X_train=X[:test_size],X[test_size:]\n",
    "y_test,y_train=y[:test_size],y[test_size:]"
   ]
  },
  {
   "cell_type": "code",
   "execution_count": 6,
   "metadata": {},
   "outputs": [],
   "source": [
    "import numpy as np\n",
    "np.random.seed(50)\n",
    "\n",
    "shuffle_index=np.random.permutation(len(X)-test_size)"
   ]
  },
  {
   "cell_type": "code",
   "execution_count": 7,
   "metadata": {},
   "outputs": [],
   "source": [
    "X_train,y_train=X_train[shuffle_index],y_train[shuffle_index]"
   ]
  },
  {
   "cell_type": "markdown",
   "metadata": {},
   "source": [
    "## 4 多类别分类\n",
    "Multiclass Classification"
   ]
  },
  {
   "cell_type": "markdown",
   "metadata": {},
   "source": [
    "用二分类器去执行多类别分类，总的来说有两种策略，以数字识别来说：\n",
    "\n",
    "1）“一对所有”（OvA）策略\n",
    "    \n",
    "    训练10个二分类器，每个分类器对应一个数字。当对某张图片进行分类时，让每个分类器对其进行分类，选出决策分数最高的那个分类器。\n",
    "    \n",
    "2）“一对一”（OvO）策略\n",
    "\n",
    "    对每一对数字训练一个二分类器，共需训练45个分类器。当对某张图片进行分类时，让每个分类器对其进行分类。\n",
    "\n",
    "首先来回顾一下上一篇：我们首先把target处理成“是1”和“非1”两种类别，然后将它与X一起放入SGD分类器中；采用decision_function()后，我们得到了一个分数。"
   ]
  },
  {
   "cell_type": "code",
   "execution_count": 8,
   "metadata": {},
   "outputs": [],
   "source": [
    "y_test_1=(y_test==1)\n",
    "y_train_1=(y_train==1)"
   ]
  },
  {
   "cell_type": "code",
   "execution_count": 9,
   "metadata": {},
   "outputs": [],
   "source": [
    "import warnings\n",
    "warnings.filterwarnings(\"ignore\")"
   ]
  },
  {
   "cell_type": "code",
   "execution_count": 10,
   "metadata": {},
   "outputs": [],
   "source": [
    "from sklearn.linear_model import SGDClassifier\n",
    "sgd_clf=SGDClassifier(random_state=22)\n",
    "sgd_clf.fit(X_train,y_train_1)\n",
    "\n",
    "sample_scores_1=sgd_clf.decision_function([X[1]])"
   ]
  },
  {
   "cell_type": "code",
   "execution_count": 11,
   "metadata": {},
   "outputs": [
    {
     "name": "stdout",
     "output_type": "stream",
     "text": [
      "[3669.53376365]\n"
     ]
    }
   ],
   "source": [
    "print(sample_scores_1)"
   ]
  },
  {
   "cell_type": "markdown",
   "metadata": {},
   "source": [
    "这次我们直接把原来的target放进去，看看会怎样？"
   ]
  },
  {
   "cell_type": "code",
   "execution_count": 12,
   "metadata": {},
   "outputs": [],
   "source": [
    "sgd_clf=SGDClassifier(random_state=22)\n",
    "sgd_clf.fit(X_train,y_train)\n",
    "\n",
    "sample_scores=sgd_clf.decision_function([X[1]])"
   ]
  },
  {
   "cell_type": "code",
   "execution_count": 13,
   "metadata": {},
   "outputs": [
    {
     "name": "stdout",
     "output_type": "stream",
     "text": [
      "[[-15777.7684099    3669.53376365  -7103.65522803  -3321.81748887\n",
      "   -2848.54424899  -8534.06605441  -8368.87792168  -9822.23091297\n",
      "   -7441.48985801  -9460.87508879]]\n"
     ]
    }
   ],
   "source": [
    "print(sample_scores)"
   ]
  },
  {
   "cell_type": "code",
   "execution_count": 14,
   "metadata": {},
   "outputs": [
    {
     "data": {
      "text/plain": [
       "array([0, 1, 2, 3, 4, 5, 6, 7, 8, 9])"
      ]
     },
     "execution_count": 14,
     "metadata": {},
     "output_type": "execute_result"
    }
   ],
   "source": [
    "sgd_clf.classes_"
   ]
  },
  {
   "cell_type": "code",
   "execution_count": 15,
   "metadata": {},
   "outputs": [
    {
     "data": {
      "text/plain": [
       "1"
      ]
     },
     "execution_count": 15,
     "metadata": {},
     "output_type": "execute_result"
    }
   ],
   "source": [
    "np.argmax(sample_scores)"
   ]
  },
  {
   "cell_type": "markdown",
   "metadata": {},
   "source": [
    "得到的是一个10维的向量，也就是说针对每个类别都进行了打分。同时也可以观察到第二个值是最大的，而输进去的样本正好是1的数据。\n",
    "\n",
    "    np.argmax()获得一/多维矩阵最大值的位置，通过axis=0/1/2参数进行控制对比的方向。\n",
    "    classes_属性访问分类器划分的类别\n",
    "    \n",
    "sklearn也提供了上述两种策略的使用方式：OneVsOneClassifier类，OneVsRestClassifier类。\n",
    "\n",
    "    可以将一个二分类器传递给它。"
   ]
  },
  {
   "cell_type": "code",
   "execution_count": 16,
   "metadata": {},
   "outputs": [
    {
     "data": {
      "text/plain": [
       "array([0, 1, 1, 3, 4, 9, 6, 7, 8, 9, 0, 1, 2, 3, 4, 5, 6, 7, 8, 3])"
      ]
     },
     "execution_count": 16,
     "metadata": {},
     "output_type": "execute_result"
    }
   ],
   "source": [
    "from sklearn.multiclass import OneVsOneClassifier\n",
    "ovo_clf=OneVsOneClassifier(sgd_clf)\n",
    "ovo_clf.fit(X_train,y_train)\n",
    "ovo_clf.predict(X[0:20])"
   ]
  },
  {
   "cell_type": "code",
   "execution_count": 17,
   "metadata": {},
   "outputs": [
    {
     "data": {
      "text/plain": [
       "45"
      ]
     },
     "execution_count": 17,
     "metadata": {},
     "output_type": "execute_result"
    }
   ],
   "source": [
    "len(ovo_clf.estimators_)"
   ]
  },
  {
   "cell_type": "markdown",
   "metadata": {},
   "source": [
    "我们知道前20个就是0~9循环嘛，这里预测还错挺多的。二分类器的数量就像我们上面说的是45个。\n",
    "\n",
    "随机森林分类器本身就可以直接将一个样本分到多个类别。"
   ]
  },
  {
   "cell_type": "code",
   "execution_count": 18,
   "metadata": {},
   "outputs": [
    {
     "data": {
      "text/plain": [
       "array([0, 1, 8, 3, 4, 3, 6, 7, 8, 9, 0, 1, 1, 3, 4, 5, 6, 7, 8, 1])"
      ]
     },
     "execution_count": 18,
     "metadata": {},
     "output_type": "execute_result"
    }
   ],
   "source": [
    "from sklearn.ensemble import RandomForestClassifier\n",
    "ranfor_clf=RandomForestClassifier(n_estimators=10,random_state=22)\n",
    "ranfor_clf.fit(X_train,y_train)\n",
    "ranfor_clf.predict(X[0:20])"
   ]
  },
  {
   "cell_type": "code",
   "execution_count": 19,
   "metadata": {},
   "outputs": [
    {
     "data": {
      "text/plain": [
       "array([[1. , 0. , 0. , 0. , 0. , 0. , 0. , 0. , 0. , 0. ],\n",
       "       [0. , 1. , 0. , 0. , 0. , 0. , 0. , 0. , 0. , 0. ],\n",
       "       [0. , 0.3, 0.1, 0. , 0. , 0. , 0. , 0. , 0.6, 0. ],\n",
       "       [0. , 0. , 0. , 0.9, 0. , 0. , 0. , 0. , 0. , 0.1],\n",
       "       [0.2, 0. , 0. , 0. , 0.5, 0. , 0.1, 0. , 0.2, 0. ]])"
      ]
     },
     "execution_count": 19,
     "metadata": {},
     "output_type": "execute_result"
    }
   ],
   "source": [
    "ranfor_clf.predict_proba(X[0:5])"
   ]
  },
  {
   "cell_type": "markdown",
   "metadata": {},
   "source": [
    "来看看随机森林对前面5个样本都进行了怎样的判断。我们知道第三个应该是2，对应的概率显示，这个分类器认为这个样本有30%的可能是1,10%的可能是2,60%的可能是8。"
   ]
  },
  {
   "cell_type": "code",
   "execution_count": 20,
   "metadata": {},
   "outputs": [
    {
     "data": {
      "text/plain": [
       "<matplotlib.image.AxesImage at 0x1f6eada9cf8>"
      ]
     },
     "execution_count": 20,
     "metadata": {},
     "output_type": "execute_result"
    },
    {
     "data": {
      "image/png": "[encoded data removed]",
      "text/plain": [
       "<Figure size 432x288 with 1 Axes>"
      ]
     },
     "metadata": {
      "needs_background": "light"
     },
     "output_type": "display_data"
    }
   ],
   "source": [
    "plt.imshow(X[2].reshape(8,8),cmap = mpl.cm.binary,interpolation=\"nearest\")"
   ]
  },
  {
   "cell_type": "markdown",
   "metadata": {},
   "source": [
    "确实是个令人尴尬的样本。"
   ]
  },
  {
   "cell_type": "markdown",
   "metadata": {},
   "source": [
    "## 5 性能评价\n",
    "Performance measures\n",
    "\n",
    "1）交叉验证"
   ]
  },
  {
   "cell_type": "code",
   "execution_count": 21,
   "metadata": {},
   "outputs": [
    {
     "data": {
      "text/plain": [
       "array([0.89834025, 0.93125   , 0.92857143])"
      ]
     },
     "execution_count": 21,
     "metadata": {},
     "output_type": "execute_result"
    }
   ],
   "source": [
    "from sklearn.model_selection import cross_val_score\n",
    "cross_val_score(sgd_clf,X_train,y_train,cv=3,scoring=\"accuracy\")"
   ]
  },
  {
   "cell_type": "code",
   "execution_count": 22,
   "metadata": {},
   "outputs": [
    {
     "data": {
      "text/plain": [
       "array([0.94813278, 0.95      , 0.93067227])"
      ]
     },
     "execution_count": 22,
     "metadata": {},
     "output_type": "execute_result"
    }
   ],
   "source": [
    "cross_val_score(ovo_clf,X_train,y_train,cv=3,scoring=\"accuracy\")"
   ]
  },
  {
   "cell_type": "code",
   "execution_count": 23,
   "metadata": {},
   "outputs": [
    {
     "data": {
      "text/plain": [
       "array([0.93775934, 0.94375   , 0.93907563])"
      ]
     },
     "execution_count": 23,
     "metadata": {},
     "output_type": "execute_result"
    }
   ],
   "source": [
    "cross_val_score(ranfor_clf,X_train,y_train,cv=3,scoring=\"accuracy\")"
   ]
  },
  {
   "cell_type": "markdown",
   "metadata": {},
   "source": [
    "2）混淆矩阵\n",
    "\n",
    "因为改进算法的关键在于明确算法误差的来源，我们可以利用混淆矩阵来得到一个直观的洞察。"
   ]
  },
  {
   "cell_type": "code",
   "execution_count": 24,
   "metadata": {},
   "outputs": [],
   "source": [
    "from sklearn.model_selection import cross_val_predict\n",
    "y_train_predict=cross_val_predict(ranfor_clf,X_train,y_train,cv=3)\n",
    "\n",
    "from sklearn.metrics import confusion_matrix\n",
    "conf_matrix=confusion_matrix(y_train,y_train_predict)"
   ]
  },
  {
   "cell_type": "code",
   "execution_count": 25,
   "metadata": {},
   "outputs": [
    {
     "data": {
      "text/plain": [
       "array([[137,   0,   0,   0,   3,   0,   0,   0,   0,   0],\n",
       "       [  0, 141,   0,   0,   0,   0,   0,   0,   2,   1],\n",
       "       [  0,   3, 136,   1,   0,   0,   0,   0,   0,   1],\n",
       "       [  1,   3,   0, 128,   0,   0,   1,   4,   3,   5],\n",
       "       [  1,   1,   0,   0, 141,   1,   0,   3,   0,   0],\n",
       "       [  1,   1,   0,   0,   1, 140,   0,   0,   1,   2],\n",
       "       [  1,   2,   0,   1,   0,   0, 140,   0,   1,   0],\n",
       "       [  0,   0,   0,   0,   1,   2,   0, 140,   1,   0],\n",
       "       [  0,   6,   2,   3,   2,   1,   0,   2, 121,   3],\n",
       "       [  1,   3,   0,   1,   1,   3,   0,   4,   5, 128]], dtype=int64)"
      ]
     },
     "execution_count": 25,
     "metadata": {},
     "output_type": "execute_result"
    }
   ],
   "source": [
    "conf_matrix"
   ]
  },
  {
   "cell_type": "markdown",
   "metadata": {},
   "source": [
    "数据主要聚集在对角线上，说明分类正确的比较多，我们试试用matshow()以及刚才画图用的inshow()来画一下这个混淆矩阵。"
   ]
  },
  {
   "cell_type": "code",
   "execution_count": 26,
   "metadata": {},
   "outputs": [
    {
     "data": {
      "text/plain": [
       "<matplotlib.image.AxesImage at 0x1f6ebf2db00>"
      ]
     },
     "execution_count": 26,
     "metadata": {},
     "output_type": "execute_result"
    },
    {
     "data": {
      "image/png": "[encoded data removed]",
      "text/plain": [
       "<Figure size 288x288 with 1 Axes>"
      ]
     },
     "metadata": {
      "needs_background": "light"
     },
     "output_type": "display_data"
    }
   ],
   "source": [
    "plt.matshow(conf_matrix,cmap=plt.cm.gray)"
   ]
  },
  {
   "cell_type": "code",
   "execution_count": 27,
   "metadata": {},
   "outputs": [
    {
     "data": {
      "text/plain": [
       "<matplotlib.image.AxesImage at 0x1f6ebf89898>"
      ]
     },
     "execution_count": 27,
     "metadata": {},
     "output_type": "execute_result"
    },
    {
     "data": {
      "image/png": "[encoded data removed]",
      "text/plain": [
       "<Figure size 432x288 with 1 Axes>"
      ]
     },
     "metadata": {
      "needs_background": "light"
     },
     "output_type": "display_data"
    }
   ],
   "source": [
    "plt.imshow(conf_matrix,cmap = mpl.cm.binary,interpolation=\"nearest\")"
   ]
  },
  {
   "cell_type": "markdown",
   "metadata": {},
   "source": [
    "由第一个图可见，对角线的值越大颜色越白，3、8、9这三个数字的识别表现似乎不如其他数字，抑或数据集中这些数字本来就比较少。\n",
    "\n",
    "通过第二个图，我们把数字间混淆的类型显示了出来。"
   ]
  },
  {
   "cell_type": "code",
   "execution_count": 28,
   "metadata": {},
   "outputs": [
    {
     "data": {
      "text/plain": [
       "0    140\n",
       "1    144\n",
       "2    141\n",
       "3    145\n",
       "4    147\n",
       "5    146\n",
       "6    145\n",
       "7    144\n",
       "8    140\n",
       "9    146\n",
       "Name: 0, dtype: int64"
      ]
     },
     "execution_count": 28,
     "metadata": {},
     "output_type": "execute_result"
    }
   ],
   "source": [
    "import pandas as pd\n",
    "pd.DataFrame(y_train)[0].value_counts().sort_index()"
   ]
  },
  {
   "cell_type": "markdown",
   "metadata": {},
   "source": [
    "可见样本中8确实少了一点，但是9是很多的。\n",
    "\n",
    "而且我们可以观察到混淆矩阵每一行加起来就是每种类别的样本数，可想而知每一行代表了该类样本在进行分类时得到的分类结果分布。\n",
    "\n",
    "第二个图的呈现想过还是不太好。因为最大值和最小值差距太大了，让我们把对角线的数值去掉,且把错误个数用更为可比较的错误率来作为指标。"
   ]
  },
  {
   "cell_type": "code",
   "execution_count": 29,
   "metadata": {},
   "outputs": [
    {
     "data": {
      "text/plain": [
       "(10,)"
      ]
     },
     "execution_count": 29,
     "metadata": {},
     "output_type": "execute_result"
    }
   ],
   "source": [
    "numbers=conf_matrix.sum(axis=1)\n",
    "numbers.shape"
   ]
  },
  {
   "cell_type": "code",
   "execution_count": 30,
   "metadata": {},
   "outputs": [
    {
     "data": {
      "text/plain": [
       "(10, 1)"
      ]
     },
     "execution_count": 30,
     "metadata": {},
     "output_type": "execute_result"
    }
   ],
   "source": [
    "numbers2=conf_matrix.sum(axis=1,keepdims=True)\n",
    "numbers2.shape"
   ]
  },
  {
   "cell_type": "markdown",
   "metadata": {},
   "source": [
    "keepdims参数的作用就是保持原来的维度，如果不设置会导致混淆矩阵的归一化出现错误。"
   ]
  },
  {
   "cell_type": "code",
   "execution_count": 31,
   "metadata": {},
   "outputs": [
    {
     "data": {
      "text/plain": [
       "<matplotlib.image.AxesImage at 0x1f6ecb3a320>"
      ]
     },
     "execution_count": 31,
     "metadata": {},
     "output_type": "execute_result"
    },
    {
     "data": {
      "image/png": "[encoded data removed]",
      "text/plain": [
       "<Figure size 288x288 with 1 Axes>"
      ]
     },
     "metadata": {
      "needs_background": "light"
     },
     "output_type": "display_data"
    }
   ],
   "source": [
    "norm_conf_matrix=conf_matrix/numbers2\n",
    "np.fill_diagonal(norm_conf_matrix,0)\n",
    "plt.matshow(norm_conf_matrix,cmap=plt.cm.gray)"
   ]
  },
  {
   "cell_type": "markdown",
   "metadata": {},
   "source": [
    "总体，数字1、2的分类表现相对较好，8、9表现比较差；8、9常被识别为别的数字，别的数字也常被识别为8、9。\n",
    "\n",
    "细观，8经常被判定为1,3经常被判定为9,9经常被判定为8。"
   ]
  },
  {
   "cell_type": "code",
   "execution_count": 32,
   "metadata": {},
   "outputs": [],
   "source": [
    "# EXTRA\n",
    "def plot_digits(instances, images_per_row=10, **options):\n",
    "    size = 8\n",
    "    images_per_row = min(len(instances), images_per_row)\n",
    "    images = [instance.reshape(size,size) for instance in instances]\n",
    "    n_rows = (len(instances) - 1) // images_per_row + 1\n",
    "    row_images = []\n",
    "    n_empty = n_rows * images_per_row - len(instances)\n",
    "    images.append(np.zeros((size, size * n_empty)))\n",
    "    for row in range(n_rows):\n",
    "        rimages = images[row * images_per_row : (row + 1) * images_per_row]\n",
    "        row_images.append(np.concatenate(rimages, axis=1))\n",
    "    image = np.concatenate(row_images, axis=0)\n",
    "    plt.imshow(image, cmap = mpl.cm.binary, **options)\n",
    "    plt.axis(\"off\")"
   ]
  },
  {
   "cell_type": "code",
   "execution_count": 33,
   "metadata": {},
   "outputs": [
    {
     "data": {
      "image/png": "[encoded data removed]",
      "text/plain": [
       "<Figure size 1080x720 with 4 Axes>"
      ]
     },
     "metadata": {
      "needs_background": "light"
     },
     "output_type": "display_data"
    }
   ],
   "source": [
    "cl_1,cl_8=1,8\n",
    "X_11=X_train[(y_train==cl_1)&(y_train_predict==cl_1)]\n",
    "X_18=X_train[(y_train==cl_1)&(y_train_predict==cl_8)]\n",
    "X_81=X_train[(y_train==cl_8)&(y_train_predict==cl_1)]\n",
    "X_88=X_train[(y_train==cl_8)&(y_train_predict==cl_8)]\n",
    "\n",
    "plt.figure(figsize=(15,10))\n",
    "plt.subplot(221);plot_digits(X_11[:18], images_per_row=6)\n",
    "plt.subplot(222);plot_digits(X_88[:18], images_per_row=6)\n",
    "plt.subplot(223);plot_digits(X_81[:18], images_per_row=6)\n",
    "plt.subplot(224);plot_digits(X_18[:18], images_per_row=6)"
   ]
  },
  {
   "cell_type": "code",
   "execution_count": null,
   "metadata": {},
   "outputs": [],
   "source": []
  }
 ],
 "metadata": {
  "kernelspec": {
   "display_name": "Python 3",
   "language": "python",
   "name": "python3"
  },
  "language_info": {
   "codemirror_mode": {
    "name": "ipython",
    "version": 3
   },
   "file_extension": ".py",
   "mimetype": "text/x-python",
   "name": "python",
   "nbconvert_exporter": "python",
   "pygments_lexer": "ipython3",
   "version": "3.7.1"
  }
 },
 "nbformat": 4,
 "nbformat_minor": 2
}
